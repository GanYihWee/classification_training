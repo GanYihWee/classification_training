{
 "cells": [
  {
   "cell_type": "code",
   "execution_count": 1,
   "id": "ce0d5a22-f754-43c8-b1ee-68e06579bd16",
   "metadata": {},
   "outputs": [
    {
     "data": {
      "text/plain": [
       "'12.1'"
      ]
     },
     "execution_count": 1,
     "metadata": {},
     "output_type": "execute_result"
    }
   ],
   "source": [
    "import torch\n",
    "import torchvision\n",
    "import torch.nn as nn\n",
    "import torch.optim as optim\n",
    "from torch.optim import lr_scheduler\n",
    "import torchvision.datasets as datasets\n",
    "import torchvision.transforms as transforms\n",
    "import torchvision.models as models\n",
    "from torchvision.models import resnet18, ResNet18_Weights\n",
    "import matplotlib.pyplot as plt\n",
    "import numpy as np\n",
    "import cv2\n",
    "from pathlib import Path\n",
    "import os\n",
    "os.environ['CUDA_LAUNCH_BLOCKING'] = \"1\"\n",
    "from earlystopping import EarlyStopping\n",
    "%matplotlib inline\n",
    "import pandas as pd\n",
    "torch.version.cuda"
   ]
  },
  {
   "cell_type": "code",
   "execution_count": 2,
   "id": "939db4ed-c06a-4b5b-b8d3-99dff8d768e5",
   "metadata": {},
   "outputs": [],
   "source": [
    "from sklearn.metrics import classification_report\n",
    "from sklearn.metrics import confusion_matrix\n",
    "import seaborn as sns\n",
    "from torch.utils.data import Dataset, DataLoader\n",
    "from PIL import Image\n",
    "from self_transformers import Albumentations"
   ]
  },
  {
   "cell_type": "code",
   "execution_count": 4,
   "id": "8e791764-4bfa-4830-a8bc-0b716a69e812",
   "metadata": {},
   "outputs": [],
   "source": [
    "data_transforms = {\n",
    "    'train': transforms.Compose([\n",
    "        Albumentations(),\n",
    "        transforms.Resize((32, 256)),\n",
    "        transforms.ToTensor(),\n",
    "        transforms.ConvertImageDtype(torch.float)\n",
    "    ]),\n",
    "    'val': transforms.Compose([\n",
    "        transforms.Resize((32, 256)),\n",
    "        transforms.ToTensor(),\n",
    "        transforms.ConvertImageDtype(torch.float)\n",
    "        \n",
    "    ]),\n",
    "}\n",
    "\n",
    "data_dir = '/data/yihwee/MinorTampering/3d_tampering/train_test_val_4'\n",
    "\n",
    "image_datasets = {x: datasets.ImageFolder(os.path.join(data_dir, x), data_transforms[x]) for x in ['train', 'val']}\n",
    "dataloaders = {x: torch.utils.data.DataLoader(image_datasets[x], batch_size=32, shuffle=True, num_workers=6) for x in ['train', 'val']}\n",
    "dataset_sizes = {x: len(image_datasets[x]) for x in ['train', 'val']}"
   ]
  },
  {
   "cell_type": "code",
   "execution_count": 5,
   "id": "95d2cd2d-0b6c-45a8-8b57-446b2127f2c8",
   "metadata": {},
   "outputs": [],
   "source": [
    "def create_model(model, weights = None):\n",
    "    \n",
    "    model = model(weights = weights) if weights != None else model()\n",
    "\n",
    "    #Finetune Final few layers to adjust for tiny imagenet input\n",
    "    model.avgpool = nn.AdaptiveAvgPool2d(1)\n",
    "    num_ftrs = model.fc.in_features\n",
    "\n",
    "    model.fc = nn.Sequential(nn.Linear(num_ftrs, 1), nn.Sigmoid())\n",
    "    model.to(device)\n",
    "    \n",
    "    return model"
   ]
  },
  {
   "cell_type": "code",
   "execution_count": 6,
   "id": "d974fbf8-23e6-4b34-a9c7-5dbc584d97c9",
   "metadata": {},
   "outputs": [
    {
     "name": "stderr",
     "output_type": "stream",
     "text": [
      "/home/yihwee/anaconda3/envs/p311-cu121/lib/python3.11/site-packages/torch/cuda/__init__.py:126: UserWarning: CUDA initialization: The NVIDIA driver on your system is too old (found version 11060). Please update your GPU driver by downloading and installing a new version from the URL: http://www.nvidia.com/Download/index.aspx Alternatively, go to: https://pytorch.org to install a PyTorch version that has been compiled with your version of the CUDA driver. (Triggered internally at ../c10/cuda/CUDAFunctions.cpp:108.)\n",
      "  return torch._C._cuda_getDeviceCount() > 0\n"
     ]
    }
   ],
   "source": [
    "device = torch.device(\"cuda:0\" if torch.cuda.is_available() else \"cpu\")\n",
    "\n",
    "#Load Resnet18\n",
    "album_rgb_resnet18 = create_model(resnet18, ResNet18_Weights.IMAGENET1K_V1)\n",
    "\n",
    "#Following is the loss function and optimization used for baseline model\n",
    "#Loss Function\n",
    "loss_fn = nn.BCELoss()\n",
    "# Observe that all parameters are being optimized\n",
    "optimizer = optim.SGD(album_rgb_resnet18.parameters(), lr=0.001, momentum=0.9)\n",
    "\n",
    "# Decay LR by a factor of 0.1 every 7 epochs\n",
    "exp_lr_scheduler = lr_scheduler.StepLR(optimizer, step_size=7, gamma=0.1)"
   ]
  },
  {
   "cell_type": "code",
   "execution_count": 7,
   "id": "47a3e886-b02c-4fa7-913a-97191302c223",
   "metadata": {},
   "outputs": [
    {
     "data": {
      "text/plain": [
       "ResNet(\n",
       "  (conv1): Conv2d(3, 64, kernel_size=(7, 7), stride=(2, 2), padding=(3, 3), bias=False)\n",
       "  (bn1): BatchNorm2d(64, eps=1e-05, momentum=0.1, affine=True, track_running_stats=True)\n",
       "  (relu): ReLU(inplace=True)\n",
       "  (maxpool): MaxPool2d(kernel_size=3, stride=2, padding=1, dilation=1, ceil_mode=False)\n",
       "  (layer1): Sequential(\n",
       "    (0): BasicBlock(\n",
       "      (conv1): Conv2d(64, 64, kernel_size=(3, 3), stride=(1, 1), padding=(1, 1), bias=False)\n",
       "      (bn1): BatchNorm2d(64, eps=1e-05, momentum=0.1, affine=True, track_running_stats=True)\n",
       "      (relu): ReLU(inplace=True)\n",
       "      (conv2): Conv2d(64, 64, kernel_size=(3, 3), stride=(1, 1), padding=(1, 1), bias=False)\n",
       "      (bn2): BatchNorm2d(64, eps=1e-05, momentum=0.1, affine=True, track_running_stats=True)\n",
       "    )\n",
       "    (1): BasicBlock(\n",
       "      (conv1): Conv2d(64, 64, kernel_size=(3, 3), stride=(1, 1), padding=(1, 1), bias=False)\n",
       "      (bn1): BatchNorm2d(64, eps=1e-05, momentum=0.1, affine=True, track_running_stats=True)\n",
       "      (relu): ReLU(inplace=True)\n",
       "      (conv2): Conv2d(64, 64, kernel_size=(3, 3), stride=(1, 1), padding=(1, 1), bias=False)\n",
       "      (bn2): BatchNorm2d(64, eps=1e-05, momentum=0.1, affine=True, track_running_stats=True)\n",
       "    )\n",
       "  )\n",
       "  (layer2): Sequential(\n",
       "    (0): BasicBlock(\n",
       "      (conv1): Conv2d(64, 128, kernel_size=(3, 3), stride=(2, 2), padding=(1, 1), bias=False)\n",
       "      (bn1): BatchNorm2d(128, eps=1e-05, momentum=0.1, affine=True, track_running_stats=True)\n",
       "      (relu): ReLU(inplace=True)\n",
       "      (conv2): Conv2d(128, 128, kernel_size=(3, 3), stride=(1, 1), padding=(1, 1), bias=False)\n",
       "      (bn2): BatchNorm2d(128, eps=1e-05, momentum=0.1, affine=True, track_running_stats=True)\n",
       "      (downsample): Sequential(\n",
       "        (0): Conv2d(64, 128, kernel_size=(1, 1), stride=(2, 2), bias=False)\n",
       "        (1): BatchNorm2d(128, eps=1e-05, momentum=0.1, affine=True, track_running_stats=True)\n",
       "      )\n",
       "    )\n",
       "    (1): BasicBlock(\n",
       "      (conv1): Conv2d(128, 128, kernel_size=(3, 3), stride=(1, 1), padding=(1, 1), bias=False)\n",
       "      (bn1): BatchNorm2d(128, eps=1e-05, momentum=0.1, affine=True, track_running_stats=True)\n",
       "      (relu): ReLU(inplace=True)\n",
       "      (conv2): Conv2d(128, 128, kernel_size=(3, 3), stride=(1, 1), padding=(1, 1), bias=False)\n",
       "      (bn2): BatchNorm2d(128, eps=1e-05, momentum=0.1, affine=True, track_running_stats=True)\n",
       "    )\n",
       "  )\n",
       "  (layer3): Sequential(\n",
       "    (0): BasicBlock(\n",
       "      (conv1): Conv2d(128, 256, kernel_size=(3, 3), stride=(2, 2), padding=(1, 1), bias=False)\n",
       "      (bn1): BatchNorm2d(256, eps=1e-05, momentum=0.1, affine=True, track_running_stats=True)\n",
       "      (relu): ReLU(inplace=True)\n",
       "      (conv2): Conv2d(256, 256, kernel_size=(3, 3), stride=(1, 1), padding=(1, 1), bias=False)\n",
       "      (bn2): BatchNorm2d(256, eps=1e-05, momentum=0.1, affine=True, track_running_stats=True)\n",
       "      (downsample): Sequential(\n",
       "        (0): Conv2d(128, 256, kernel_size=(1, 1), stride=(2, 2), bias=False)\n",
       "        (1): BatchNorm2d(256, eps=1e-05, momentum=0.1, affine=True, track_running_stats=True)\n",
       "      )\n",
       "    )\n",
       "    (1): BasicBlock(\n",
       "      (conv1): Conv2d(256, 256, kernel_size=(3, 3), stride=(1, 1), padding=(1, 1), bias=False)\n",
       "      (bn1): BatchNorm2d(256, eps=1e-05, momentum=0.1, affine=True, track_running_stats=True)\n",
       "      (relu): ReLU(inplace=True)\n",
       "      (conv2): Conv2d(256, 256, kernel_size=(3, 3), stride=(1, 1), padding=(1, 1), bias=False)\n",
       "      (bn2): BatchNorm2d(256, eps=1e-05, momentum=0.1, affine=True, track_running_stats=True)\n",
       "    )\n",
       "  )\n",
       "  (layer4): Sequential(\n",
       "    (0): BasicBlock(\n",
       "      (conv1): Conv2d(256, 512, kernel_size=(3, 3), stride=(2, 2), padding=(1, 1), bias=False)\n",
       "      (bn1): BatchNorm2d(512, eps=1e-05, momentum=0.1, affine=True, track_running_stats=True)\n",
       "      (relu): ReLU(inplace=True)\n",
       "      (conv2): Conv2d(512, 512, kernel_size=(3, 3), stride=(1, 1), padding=(1, 1), bias=False)\n",
       "      (bn2): BatchNorm2d(512, eps=1e-05, momentum=0.1, affine=True, track_running_stats=True)\n",
       "      (downsample): Sequential(\n",
       "        (0): Conv2d(256, 512, kernel_size=(1, 1), stride=(2, 2), bias=False)\n",
       "        (1): BatchNorm2d(512, eps=1e-05, momentum=0.1, affine=True, track_running_stats=True)\n",
       "      )\n",
       "    )\n",
       "    (1): BasicBlock(\n",
       "      (conv1): Conv2d(512, 512, kernel_size=(3, 3), stride=(1, 1), padding=(1, 1), bias=False)\n",
       "      (bn1): BatchNorm2d(512, eps=1e-05, momentum=0.1, affine=True, track_running_stats=True)\n",
       "      (relu): ReLU(inplace=True)\n",
       "      (conv2): Conv2d(512, 512, kernel_size=(3, 3), stride=(1, 1), padding=(1, 1), bias=False)\n",
       "      (bn2): BatchNorm2d(512, eps=1e-05, momentum=0.1, affine=True, track_running_stats=True)\n",
       "    )\n",
       "  )\n",
       "  (avgpool): AdaptiveAvgPool2d(output_size=1)\n",
       "  (fc): Sequential(\n",
       "    (0): Linear(in_features=512, out_features=1, bias=True)\n",
       "    (1): Sigmoid()\n",
       "  )\n",
       ")"
      ]
     },
     "execution_count": 7,
     "metadata": {},
     "output_type": "execute_result"
    }
   ],
   "source": [
    "album_rgb_resnet18"
   ]
  },
  {
   "cell_type": "code",
   "execution_count": 8,
   "id": "f8d2f13e-05cf-407a-95de-058afcd62971",
   "metadata": {},
   "outputs": [],
   "source": [
    "test_losses = []\n",
    "results = []\n",
    "def test(dataloader, model, loss_fn):\n",
    "    \n",
    "    size = len(dataloader.dataset)\n",
    "    num_batches = len(dataloader)\n",
    "    model.eval()\n",
    "    test_loss, correct = 0, 0\n",
    "    with torch.no_grad():\n",
    "        for X, y in dataloader:\n",
    "            X, y = X.to(device), y.to(device, dtype=torch.float)\n",
    "            pred = model(X)\n",
    "            test_loss += loss_fn(pred, y.reshape(-1,1)).item()\n",
    "            preds = [1 if i > 0.5 else 0 for i in pred]\n",
    "            label = [1 if i > 0.5 else 0 for i in y.reshape(-1,1)]\n",
    "            correct += sum([1 if preds[i] == label[i] else 0 for i in range(0, len(preds))])\n",
    "\n",
    "    test_loss /= num_batches\n",
    "    correct /= size\n",
    "    test_losses.append(test_loss)\n",
    "            \n",
    "    print(f\"Test Error: \\n Accuracy: {(100*correct):>0.1f}%, Avg loss: {test_loss:>8f} \\n\")\n",
    "    \n",
    "    return test_loss, model\n"
   ]
  },
  {
   "cell_type": "code",
   "execution_count": 9,
   "id": "faca96a3-49bb-4a8d-8a10-aab72b06706a",
   "metadata": {},
   "outputs": [],
   "source": [
    "train_losses = []\n",
    "def train(dataloader, model, loss_fn, optimizer):\n",
    "    size = len(dataloader.dataset)\n",
    "    model.train()\n",
    "    for batch, (X, y) in enumerate(dataloader):\n",
    "\n",
    "        X, y = X.to(device), y.to(device, dtype=torch.float)\n",
    "\n",
    "        # Compute prediction error\n",
    "        output = model(X)\n",
    "\n",
    "        # Calculate loss\n",
    "        loss = loss_fn(output, y.reshape(-1,1))\n",
    "\n",
    "        # Backpropagation\n",
    "        optimizer.zero_grad()\n",
    "        loss.backward()\n",
    "        optimizer.step()\n",
    "        \n",
    "\n",
    "        if batch % 100 == 0:\n",
    "            loss, current = loss.item(), batch * len(X)\n",
    "            print(f\"loss: {loss:>7f}  [{current:>5d}/{size:>5d}]\")\n",
    "            train_losses.append(loss)"
   ]
  },
  {
   "cell_type": "code",
   "execution_count": 10,
   "id": "866475c4-b30e-4dda-b3e2-0c50834fbc23",
   "metadata": {},
   "outputs": [
    {
     "name": "stdout",
     "output_type": "stream",
     "text": [
      "Epoch 1\n",
      "-------------------------------\n",
      "loss: 0.663953  [    0/16877]\n",
      "loss: 0.261193  [ 3200/16877]\n",
      "loss: 0.244756  [ 6400/16877]\n",
      "loss: 0.225757  [ 9600/16877]\n",
      "loss: 0.167743  [12800/16877]\n",
      "loss: 0.151114  [16000/16877]\n",
      "Test Error: \n",
      " Accuracy: 97.3%, Avg loss: 0.084451 \n",
      "\n",
      "Validation loss decreased (inf --> 0.084451).  Saving model ...\n",
      "\n",
      "Epoch 2\n",
      "-------------------------------\n",
      "loss: 0.123514  [    0/16877]\n",
      "loss: 0.395871  [ 3200/16877]\n",
      "loss: 0.033564  [ 6400/16877]\n",
      "loss: 0.042028  [ 9600/16877]\n",
      "loss: 0.203128  [12800/16877]\n",
      "loss: 0.034042  [16000/16877]\n",
      "Test Error: \n",
      " Accuracy: 98.2%, Avg loss: 0.066828 \n",
      "\n",
      "Validation loss decreased (0.084451 --> 0.066828).  Saving model ...\n",
      "\n",
      "Epoch 3\n",
      "-------------------------------\n",
      "loss: 0.031083  [    0/16877]\n",
      "loss: 0.214073  [ 3200/16877]\n",
      "loss: 0.025618  [ 6400/16877]\n",
      "loss: 0.145475  [ 9600/16877]\n",
      "loss: 0.194133  [12800/16877]\n",
      "loss: 0.136224  [16000/16877]\n",
      "Test Error: \n",
      " Accuracy: 98.6%, Avg loss: 0.050110 \n",
      "\n",
      "Validation loss decreased (0.066828 --> 0.050110).  Saving model ...\n",
      "\n",
      "Epoch 4\n",
      "-------------------------------\n",
      "loss: 0.088797  [    0/16877]\n",
      "loss: 0.125934  [ 3200/16877]\n",
      "loss: 0.025123  [ 6400/16877]\n",
      "loss: 0.030507  [ 9600/16877]\n",
      "loss: 0.015716  [12800/16877]\n",
      "loss: 0.167484  [16000/16877]\n",
      "Test Error: \n",
      " Accuracy: 98.8%, Avg loss: 0.049348 \n",
      "\n",
      "Validation loss decreased (0.050110 --> 0.049348).  Saving model ...\n",
      "\n",
      "Epoch 5\n",
      "-------------------------------\n",
      "loss: 0.026397  [    0/16877]\n",
      "loss: 0.063195  [ 3200/16877]\n",
      "loss: 0.016040  [ 6400/16877]\n",
      "loss: 0.167156  [ 9600/16877]\n",
      "loss: 0.205130  [12800/16877]\n",
      "loss: 0.059080  [16000/16877]\n",
      "Test Error: \n",
      " Accuracy: 98.8%, Avg loss: 0.039281 \n",
      "\n",
      "Validation loss decreased (0.049348 --> 0.039281).  Saving model ...\n",
      "\n",
      "Done!\n"
     ]
    }
   ],
   "source": [
    "epochs = 5\n",
    "early_stopping = EarlyStopping(patience=5, verbose=True, path='test')\n",
    "\n",
    "for t in range(epochs):\n",
    "    print(f\"Epoch {t+1}\\n-------------------------------\")\n",
    "    train(dataloaders['train'], album_rgb_resnet18, loss_fn, optimizer)\n",
    "    test_loss, model_chkpnt = test(dataloaders['val'], album_rgb_resnet18, loss_fn)\n",
    "    \n",
    "    #Earlystopping\n",
    "    early_stopping(test_loss, model_chkpnt) \n",
    "    if early_stopping.early_stop:\n",
    "        print(\"Early stopping\")\n",
    "        break\n",
    "        \n",
    "    # Release memory\n",
    "    torch.cuda.empty_cache()\n",
    "    \n",
    "print(\"Done!\")"
   ]
  },
  {
   "cell_type": "code",
   "execution_count": 11,
   "id": "d124d10d-2930-4ee4-9150-e3c836a83b89",
   "metadata": {},
   "outputs": [
    {
     "data": {
      "text/plain": [
       "<All keys matched successfully>"
      ]
     },
     "execution_count": 11,
     "metadata": {},
     "output_type": "execute_result"
    }
   ],
   "source": [
    "# Load latest checkpoint\n",
    "final_model = create_model(resnet18, ResNet18_Weights.IMAGENET1K_V1)\n",
    "final_model.load_state_dict(torch.load('checkpoints/test_checkpoint.pt'))"
   ]
  },
  {
   "cell_type": "code",
   "execution_count": 12,
   "id": "e257ecdb-217a-43a9-9178-41c747cffe82",
   "metadata": {},
   "outputs": [],
   "source": [
    "data_transforms2 = {\n",
    "    'test': transforms.Compose([\n",
    "        transforms.Resize((32, 256)),\n",
    "        transforms.ToTensor(),\n",
    "        transforms.ConvertImageDtype(torch.float)\n",
    "    ]),\n",
    "}\n",
    "\n",
    "image_datasets2 = {x: datasets.ImageFolder(os.path.join(data_dir, x), data_transforms2[x]) for x in ['test']}\n",
    "dataset_sizes2 = {x: len(image_datasets2[x]) for x in ['test']}"
   ]
  },
  {
   "cell_type": "code",
   "execution_count": 13,
   "id": "4ca178de-0572-4e41-be78-71d337f6f13b",
   "metadata": {},
   "outputs": [],
   "source": [
    "predicted = []\n",
    "actual = []\n",
    "\n",
    "for i in range(0, dataset_sizes2['test']):\n",
    "    x, y = image_datasets2['test'][i][0], image_datasets2['test'][i][1]\n",
    "    x=x.to(device)\n",
    "    final_model.eval()\n",
    "    with torch.no_grad():\n",
    "        pred = final_model(x.unsqueeze(0))\n",
    "        predicted.append([1 if x > 0.8 else 0 for x in pred][0])\n",
    "        actual.append(y)"
   ]
  },
  {
   "cell_type": "code",
   "execution_count": 14,
   "id": "927a17c9-457c-4836-8485-a0eb3a6932fc",
   "metadata": {},
   "outputs": [
    {
     "name": "stdout",
     "output_type": "stream",
     "text": [
      "              precision    recall  f1-score   support\n",
      "\n",
      "           0       0.98      1.00      0.99      2294\n",
      "           1       1.00      0.98      0.99      2281\n",
      "\n",
      "    accuracy                           0.99      4575\n",
      "   macro avg       0.99      0.99      0.99      4575\n",
      "weighted avg       0.99      0.99      0.99      4575\n",
      "\n"
     ]
    }
   ],
   "source": [
    "print(classification_report(actual, predicted))"
   ]
  },
  {
   "cell_type": "code",
   "execution_count": 15,
   "id": "b7cc14c2-bc65-4493-8976-61b1de9a2f0b",
   "metadata": {},
   "outputs": [
    {
     "data": {
      "image/png": "[encoded data removed]",
      "text/plain": [
       "<Figure size 432x288 with 2 Axes>"
      ]
     },
     "metadata": {
      "needs_background": "light"
     },
     "output_type": "display_data"
    }
   ],
   "source": [
    "#Generate the confusion matrix for test set\n",
    "cf_matrix = confusion_matrix(actual, predicted)\n",
    "\n",
    "ax = sns.heatmap(cf_matrix, annot=True, cmap='Blues', fmt='g')\n",
    "\n",
    "ax.set_title('Confusion Matrix with labels for Test Data\\n\\n');\n",
    "ax.set_xlabel('\\nPredicted Values')\n",
    "ax.set_ylabel('Actual Values ');\n",
    "\n",
    "## Ticket labels - List must be in alphabetical order\n",
    "ax.xaxis.set_ticklabels(['False','True'])\n",
    "ax.yaxis.set_ticklabels(['False','True'])\n",
    "\n",
    "## Display the visualization of the Confusion Matrix.\n",
    "plt.show()"
   ]
  },
  {
   "cell_type": "code",
   "execution_count": 16,
   "id": "ab66936b-db17-4121-9d68-d2f3752e768b",
   "metadata": {},
   "outputs": [],
   "source": [
    "torch.save(final_model, 'models/album_rgb_resnet18.pt')"
   ]
  }
 ],
 "metadata": {
  "kernelspec": {
   "display_name": "p311-cu121",
   "language": "python",
   "name": "p311-cu121"
  },
  "language_info": {
   "codemirror_mode": {
    "name": "ipython",
    "version": 3
   },
   "file_extension": ".py",
   "mimetype": "text/x-python",
   "name": "python",
   "nbconvert_exporter": "python",
   "pygments_lexer": "ipython3",
   "version": "3.11.0"
  }
 },
 "nbformat": 4,
 "nbformat_minor": 5
}
